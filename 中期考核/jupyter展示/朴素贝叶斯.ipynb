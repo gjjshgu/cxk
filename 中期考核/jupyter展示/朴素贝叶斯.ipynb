{
 "cells": [
  {
   "cell_type": "code",
   "execution_count": 1,
   "metadata": {},
   "outputs": [],
   "source": [
    "from TV_examine.model_assessment import divide_data\n",
    "from NaiveBayes import *\n",
    "import numpy as np"
   ]
  },
  {
   "cell_type": "markdown",
   "metadata": {},
   "source": [
    "## 朴素贝叶斯-垃圾邮件识别\n",
    "### 数据的预处理\n",
    "1. 读取每个词\n",
    "2. 记录每个词的出现次数\n",
    "3. 转为词向量"
   ]
  },
  {
   "cell_type": "code",
   "execution_count": 2,
   "metadata": {},
   "outputs": [],
   "source": [
    "def textParse(bigString):\n",
    "    #将单词以空格划分\n",
    "    listOfTokens = bigString.split()\n",
    "    #去除单词长度小于2的无用单词\n",
    "    return [tok.lower() for tok in listOfTokens if len(tok)>2]\n",
    "\n",
    "#去列表中重复元素，并以列表形式返回\n",
    "def createVocaList(dataSet):\n",
    "    vocabSet = set({})\n",
    "    #去重复元素，取并集\n",
    "    for document in dataSet:\n",
    "        vocabSet = vocabSet | set(document)\n",
    "    return list(vocabSet)\n",
    "\n",
    "#统计每一文档（或邮件）在单词表中出现的次数，并以列表形式返回\n",
    "def setOfWordsToVec(vocabList,inputSet):\n",
    "    #创建0向量，其长度为单词量的总数\n",
    "    returnVec = np.zeros(len(vocabList))\n",
    "    #统计相应的词汇出现的数量\n",
    "    for word in inputSet:\n",
    "        if word in vocabList:\n",
    "            returnVec[vocabList.index(word)] += 1\n",
    "    return returnVec"
   ]
  },
  {
   "cell_type": "code",
   "execution_count": 3,
   "metadata": {},
   "outputs": [],
   "source": [
    "docList,classList,x = [],[],[]\n",
    "for i in range(1, 26):\n",
    "    # 读取第i篇垃圾文件，并以列表形式返回\n",
    "    wordList = textParse(open('spam/{0}.txt'.format(i)).read())\n",
    "    docList.append(wordList)\n",
    "    classList.append(1)        # 标记文档为垃圾文档\n",
    "    # 读取第i篇非垃圾文件，并以列表形式返回 \n",
    "    wordList = textParse(open('ham/{0}.txt'.format(i)).read())\n",
    "    docList.append(wordList)\n",
    "    classList.append(0)        # 标记文档为非垃圾文档\n",
    "vocabList = createVocaList(docList)  # 创建词汇表，不重复\n",
    "# 将数据向量化\n",
    "for wordList in docList:\n",
    "    x.append(setOfWordsToVec(vocabList, wordList))"
   ]
  },
  {
   "cell_type": "markdown",
   "metadata": {},
   "source": [
    "### 数据划分\n",
    "使用留出法对数据进行划分，训练集：测试集为3：1"
   ]
  },
  {
   "cell_type": "code",
   "execution_count": 4,
   "metadata": {},
   "outputs": [],
   "source": [
    "X_train, X_test, y_train, y_test = divide_data.train_test_split(x, classList, 0.25)"
   ]
  },
  {
   "cell_type": "code",
   "execution_count": 5,
   "metadata": {},
   "outputs": [
    {
     "name": "stdout",
     "output_type": "stream",
     "text": [
      "accuracy: 0.8461538461538461\n"
     ]
    },
    {
     "data": {
      "text/plain": [
       "(array([1, 1, 0, 1, 1, 0, 0, 1, 1, 1, 1, 0, 1]),\n",
       " array([1, 1, 0, 1, 0, 0, 0, 1, 1, 1, 1, 0, 0]))"
      ]
     },
     "execution_count": 5,
     "metadata": {},
     "output_type": "execute_result"
    }
   ],
   "source": [
    "nb1 = NaiveBayes()\n",
    "nb1.fit(X_train, y_train)\n",
    "res = nb1.predict(X_test)\n",
    "print(\"accuracy:\", np.sum(res==y_test) / len(res))\n",
    "y_test, res"
   ]
  },
  {
   "cell_type": "markdown",
   "metadata": {},
   "source": [
    "## 高数朴素贝叶斯-鸢尾花数据集\n",
    "- 鸢尾花数据集直接代入模型即可，不用预处理了\n",
    "- 依然是用留出法划分训练集和测试集"
   ]
  },
  {
   "cell_type": "code",
   "execution_count": 6,
   "metadata": {},
   "outputs": [],
   "source": [
    "from sklearn.datasets import load_iris\n",
    "iris = load_iris()\n",
    "X = iris.data\n",
    "y = iris.target\n",
    "X_train, X_test, y_train, y_test = divide_data.train_test_split(X, y, 0.2)"
   ]
  },
  {
   "cell_type": "code",
   "execution_count": 7,
   "metadata": {},
   "outputs": [
    {
     "name": "stdout",
     "output_type": "stream",
     "text": [
      "accuracy: 0.9666666666666667\n"
     ]
    },
    {
     "data": {
      "text/plain": [
       "(array([0, 1, 2, 1, 1, 1, 1, 2, 1, 0, 0, 0, 2, 0, 1, 2, 2, 1, 1, 1, 1, 1,\n",
       "        2, 1, 1, 1, 2, 0, 2, 0]),\n",
       " array([0, 1, 2, 1, 1, 1, 1, 2, 1, 0, 0, 0, 2, 0, 1, 2, 2, 1, 1, 1, 1, 1,\n",
       "        2, 1, 1, 1, 1, 0, 2, 0]))"
      ]
     },
     "execution_count": 7,
     "metadata": {},
     "output_type": "execute_result"
    }
   ],
   "source": [
    "nb2 = GaussianNB()\n",
    "nb2.fit(X_train, y_train)\n",
    "res = nb2.predict(X_test)\n",
    "print(\"accuracy:\", np.sum(res==y_test) / len(res))\n",
    "y_test, res"
   ]
  }
 ],
 "metadata": {
  "kernelspec": {
   "display_name": "Python 3",
   "language": "python",
   "name": "python3"
  },
  "language_info": {
   "codemirror_mode": {
    "name": "ipython",
    "version": 3
   },
   "file_extension": ".py",
   "mimetype": "text/x-python",
   "name": "python",
   "nbconvert_exporter": "python",
   "pygments_lexer": "ipython3",
   "version": "3.7.4"
  }
 },
 "nbformat": 4,
 "nbformat_minor": 2
}
