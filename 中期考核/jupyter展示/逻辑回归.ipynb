{
 "cells": [
  {
   "cell_type": "markdown",
   "metadata": {},
   "source": [
    "## 逻辑回归\n",
    "对于分类问题，可以通过逻辑回归模型解决。其优点在于计算代价不高，易于理解和实现。但是缺点也有，容易欠拟合，分类精度可能不高。\n",
    "\n",
    "逻辑回归需要用到sigmoid激活函数，其公式为$g(z)=\\frac{1}{1+e^{-z}}$，而根据$h_\\theta(x)=g(\\theta^TX)$，可以算出输入变量为1的概率，若结果为0.7，则表示有70%的概率为1\n",
    "\n",
    "逻辑回归通常不适用于多分类问题，但是可以通过多次使用逻辑回归实现多分类（one-vs-all)或者使用softmax回归（one-vs-one）"
   ]
  },
  {
   "cell_type": "code",
   "execution_count": 1,
   "metadata": {},
   "outputs": [],
   "source": [
    "from sklearn.datasets import load_breast_cancer\n",
    "from TV_examine.algorithm import logisticregression\n",
    "from TV_examine.data_preprocessing import preprocessing\n",
    "from TV_examine.model_assessment import clf, divide_data\n",
    "import numpy as np\n",
    "import matplotlib.pyplot as plt"
   ]
  },
  {
   "cell_type": "markdown",
   "metadata": {},
   "source": [
    "## 数据集的选择\n",
    "因为是二分类问题，这里使用了乳腺癌数据集。先是查看数据特征以及大致分布，可得知有30个特征，569个样本，且特征均为连续值，符合目标算法。"
   ]
  },
  {
   "cell_type": "code",
   "execution_count": 2,
   "metadata": {},
   "outputs": [
    {
     "data": {
      "text/plain": [
       "(array(['mean radius', 'mean texture', 'mean perimeter', 'mean area',\n",
       "        'mean smoothness', 'mean compactness', 'mean concavity',\n",
       "        'mean concave points', 'mean symmetry', 'mean fractal dimension',\n",
       "        'radius error', 'texture error', 'perimeter error', 'area error',\n",
       "        'smoothness error', 'compactness error', 'concavity error',\n",
       "        'concave points error', 'symmetry error',\n",
       "        'fractal dimension error', 'worst radius', 'worst texture',\n",
       "        'worst perimeter', 'worst area', 'worst smoothness',\n",
       "        'worst compactness', 'worst concavity', 'worst concave points',\n",
       "        'worst symmetry', 'worst fractal dimension'], dtype='<U23'),\n",
       " array(['malignant', 'benign'], dtype='<U9'),\n",
       " (569, 30),\n",
       " (569,))"
      ]
     },
     "execution_count": 2,
     "metadata": {},
     "output_type": "execute_result"
    }
   ],
   "source": [
    "cancer = load_breast_cancer()\n",
    "cancer.feature_names, cancer.target_names, cancer.data.shape, cancer.target.shape"
   ]
  },
  {
   "cell_type": "code",
   "execution_count": 3,
   "metadata": {},
   "outputs": [
    {
     "data": {
      "text/plain": [
       "array([[ 1.09609953, -2.0715123 ,  1.26881726, ...,  2.2940576 ,\n",
       "         2.74820411,  1.93531174],\n",
       "       [ 1.82821197, -0.35332152,  1.68447255, ...,  1.08612862,\n",
       "        -0.24367526,  0.28094279],\n",
       "       [ 1.5784992 ,  0.45578591,  1.56512598, ...,  1.95328166,\n",
       "         1.15124203,  0.20121416],\n",
       "       ...,\n",
       "       [ 0.70166686,  2.04377549,  0.67208442, ...,  0.41370467,\n",
       "        -1.10357792, -0.31812924],\n",
       "       [ 1.83672491,  2.33440316,  1.98078127, ...,  2.28797231,\n",
       "         1.9173959 ,  2.21768395],\n",
       "       [-1.80681144,  1.22071793, -1.81279344, ..., -1.7435287 ,\n",
       "        -0.04809589, -0.75054629]])"
      ]
     },
     "execution_count": 3,
     "metadata": {},
     "output_type": "execute_result"
    }
   ],
   "source": [
    "a = preprocessing.Standardization()\n",
    "X = a.fit_transform(cancer.data)\n",
    "X"
   ]
  },
  {
   "cell_type": "markdown",
   "metadata": {},
   "source": [
    "## 数据处理及模型评估\n",
    "- 这里使用留出法对数据进行划分。留出法：将数据集划分为两个互斥的部分，一部分做训练集一部分做测试集。以下测试集与训练集值比值为0.2.\n",
    "- 从绘制的混淆矩阵中可得知只有一个预测错误"
   ]
  },
  {
   "cell_type": "code",
   "execution_count": 4,
   "metadata": {},
   "outputs": [],
   "source": [
    "X_train, X_test, y_train, y_test = divide_data.train_test_split(X, cancer.target, 0.2)"
   ]
  },
  {
   "cell_type": "code",
   "execution_count": 5,
   "metadata": {},
   "outputs": [],
   "source": [
    "lr = logisticregression.LogisticRegression()\n",
    "lr.fit(X_train, y_train)\n",
    "y_pr_rate = lr._predict(X_test)"
   ]
  },
  {
   "cell_type": "code",
   "execution_count": 6,
   "metadata": {},
   "outputs": [],
   "source": [
    "ass = clf.clf_assessment(y_pr_rate, y_test)"
   ]
  },
  {
   "cell_type": "markdown",
   "metadata": {},
   "source": [
    "### 混淆矩阵的绘制"
   ]
  },
  {
   "cell_type": "code",
   "execution_count": 7,
   "metadata": {
    "scrolled": true
   },
   "outputs": [
    {
     "name": "stdout",
     "output_type": "stream",
     "text": [
      "           预测结果    \n",
      "真实     正例      反例\n",
      "正例      67        1\n",
      "反例       1       45\n"
     ]
    }
   ],
   "source": [
    "ass.print_matrix()"
   ]
  },
  {
   "cell_type": "code",
   "execution_count": 8,
   "metadata": {
    "scrolled": false
   },
   "outputs": [
    {
     "data": {
      "image/png": "[encoded data removed]",
      "text/plain": [
       "<Figure size 288x288 with 2 Axes>"
      ]
     },
     "metadata": {
      "needs_background": "light"
     },
     "output_type": "display_data"
    }
   ],
   "source": [
    "ass.print_matrix(True)"
   ]
  },
  {
   "cell_type": "markdown",
   "metadata": {},
   "source": [
    "### 模型评估"
   ]
  },
  {
   "cell_type": "code",
   "execution_count": 9,
   "metadata": {
    "scrolled": true
   },
   "outputs": [
    {
     "name": "stdout",
     "output_type": "stream",
     "text": [
      "准确率： 0.9824561403508771\n",
      "精准率： 0.9852941176470589\n",
      "召回率： 0.9852941176470589\n",
      "F1-Score： 0.9852941176470589\n",
      "AUC值为： 0.9968030690537084\n"
     ]
    }
   ],
   "source": [
    "print(\"准确率：\",ass.accuracy())\n",
    "print(\"精准率：\",ass.precision())\n",
    "print(\"召回率：\",ass.recall())\n",
    "print(\"F1-Score：\",ass.F1_score())\n",
    "ass.count_AUC()"
   ]
  },
  {
   "cell_type": "code",
   "execution_count": 10,
   "metadata": {},
   "outputs": [
    {
     "data": {
      "image/png": "[encoded data removed]",
      "text/plain": [
       "<Figure size 432x288 with 1 Axes>"
      ]
     },
     "metadata": {
      "needs_background": "light"
     },
     "output_type": "display_data"
    }
   ],
   "source": [
    "ass.paint_PR()"
   ]
  },
  {
   "cell_type": "code",
   "execution_count": 11,
   "metadata": {
    "scrolled": false
   },
   "outputs": [
    {
     "data": {
      "image/png": "[encoded data removed]",
      "text/plain": [
       "<Figure size 432x288 with 1 Axes>"
      ]
     },
     "metadata": {
      "needs_background": "light"
     },
     "output_type": "display_data"
    }
   ],
   "source": [
    "ass.paint_ROC()"
   ]
  },
  {
   "cell_type": "markdown",
   "metadata": {},
   "source": [
    "## 对比\n",
    "对比sklearn中的逻辑回归，看看效果如何\n",
    "\n",
    "结果也差不多吧"
   ]
  },
  {
   "cell_type": "code",
   "execution_count": 12,
   "metadata": {},
   "outputs": [
    {
     "name": "stdout",
     "output_type": "stream",
     "text": [
      "              precision    recall  f1-score   support\n",
      "\n",
      "           0       0.98      0.96      0.97        46\n",
      "           1       0.97      0.99      0.98        68\n",
      "\n",
      "    accuracy                           0.97       114\n",
      "   macro avg       0.97      0.97      0.97       114\n",
      "weighted avg       0.97      0.97      0.97       114\n",
      "\n"
     ]
    },
    {
     "name": "stderr",
     "output_type": "stream",
     "text": [
      "/Users/huangzhuoxi/opt/anaconda3/lib/python3.7/site-packages/sklearn/linear_model/logistic.py:432: FutureWarning: Default solver will be changed to 'lbfgs' in 0.22. Specify a solver to silence this warning.\n",
      "  FutureWarning)\n"
     ]
    }
   ],
   "source": [
    "from sklearn.linear_model import LogisticRegression as LR_SK\n",
    "from sklearn.metrics import classification_report\n",
    "sk = LR_SK()\n",
    "sk.fit(X_train, y_train)\n",
    "y_pr = sk.predict(X_test)\n",
    "print(classification_report(y_test, y_pr))"
   ]
  }
 ],
 "metadata": {
  "kernelspec": {
   "display_name": "Python 3",
   "language": "python",
   "name": "python3"
  },
  "language_info": {
   "codemirror_mode": {
    "name": "ipython",
    "version": 3
   },
   "file_extension": ".py",
   "mimetype": "text/x-python",
   "name": "python",
   "nbconvert_exporter": "python",
   "pygments_lexer": "ipython3",
   "version": "3.7.4"
  },
  "pycharm": {
   "stem_cell": {
    "cell_type": "raw",
    "metadata": {
     "collapsed": false
    },
    "source": []
   }
  }
 },
 "nbformat": 4,
 "nbformat_minor": 1
}
