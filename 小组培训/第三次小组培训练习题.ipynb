{
 "cells": [
  {
   "cell_type": "code",
   "execution_count": 1,
   "metadata": {},
   "outputs": [],
   "source": [
    "import pymysql\n",
    "conn = pymysql.connect(host='localhost', user='root', password='asdfghjkl12', port=3306)\n",
    "cursor = conn.cursor()"
   ]
  },
  {
   "cell_type": "markdown",
   "metadata": {},
   "source": [
    "## 创建数据库\n",
    "使用sql语句`CREATE DATABASE IF NOT EXISTS demo`创建一个名为demo的数据库，结果如下。\n",
    "![](./image/3-1.png)"
   ]
  },
  {
   "cell_type": "code",
   "execution_count": 2,
   "metadata": {},
   "outputs": [
    {
     "data": {
      "text/plain": [
       "1"
      ]
     },
     "execution_count": 2,
     "metadata": {},
     "output_type": "execute_result"
    }
   ],
   "source": [
    "sql = \"CREATE DATABASE IF NOT EXISTS demo\"\n",
    "cursor.execute(sql)"
   ]
  },
  {
   "cell_type": "markdown",
   "metadata": {},
   "source": [
    "## 生成表\n",
    "使用`CREATE TABLE students` 创建一个名为students的表，其中：\n",
    "- 如果不想字段为NULL则设置字段属性为NOT NULL，操作时如果输入NULL则报错\n",
    "- AUTO_INCREMENT定义列为自增的属性，一般用于主键，数值会自动加1。\n",
    "- PRIMARY KEY关键字用于定义列为主键。\n",
    "- ENGINE 设置存储引擎，CHARSET 设置编码。\n",
    "结果如下：\n",
    "![](./image/3-2.png)"
   ]
  },
  {
   "cell_type": "code",
   "execution_count": 3,
   "metadata": {
    "scrolled": false
   },
   "outputs": [
    {
     "name": "stderr",
     "output_type": "stream",
     "text": [
      "/Users/huangzhuoxi/opt/anaconda3/lib/python3.7/site-packages/pymysql/cursors.py:170: Warning: (3719, \"'utf8' is currently an alias for the character set UTF8MB3, but will be an alias for UTF8MB4 in a future release. Please consider using UTF8MB4 in order to be unambiguous.\")\n",
      "  result = self._query(query)\n"
     ]
    },
    {
     "data": {
      "text/plain": [
       "0"
      ]
     },
     "execution_count": 3,
     "metadata": {},
     "output_type": "execute_result"
    }
   ],
   "source": [
    "conn = pymysql.connect(host='localhost', user='root', password='asdfghjkl12', database='demo', port=3306)\n",
    "cursor = conn.cursor()\n",
    "\n",
    "sql = '''CREATE TABLE `students` (\n",
    "  `id` INT NOT NULL AUTO_INCREMENT,\n",
    "  `name` char(20) NULL,\n",
    "  `school` char(20) NULL,\n",
    "  `sex` char(2),\n",
    "  `age` INT NOT NULL,\n",
    "  PRIMARY KEY (`id`)\n",
    ") ENGINE=InnoDB DEFAULT CHARSET=utf8;\n",
    "'''\n",
    "cursor.execute(sql)\n"
   ]
  },
  {
   "cell_type": "markdown",
   "metadata": {},
   "source": [
    "## INSERT语句\n",
    "使用`insert into students`在students表中插入数据，后接列名，表插入在哪一列。values为插入的值为多少。\n",
    "**每次插入、删除和更新，都要执行commit()操作**，效果如下：\n",
    "![](./image/3-3.png)"
   ]
  },
  {
   "cell_type": "code",
   "execution_count": 4,
   "metadata": {},
   "outputs": [
    {
     "data": {
      "text/plain": [
       "1"
      ]
     },
     "execution_count": 4,
     "metadata": {},
     "output_type": "execute_result"
    }
   ],
   "source": [
    "sql = \"\"\"\n",
    "insert into students(id, name, school, sex, age) values(1, '蔡徐坤', 'GDUT', '鸡', 25)\n",
    "\"\"\"\n",
    "cursor.execute(sql)"
   ]
  },
  {
   "cell_type": "markdown",
   "metadata": {},
   "source": [
    "#### 若填入变量值，则在values中用%s（不要用%d！无论输入的是什么类型都必须是%s）。然后再execute中传入值的元组。"
   ]
  },
  {
   "cell_type": "code",
   "execution_count": 5,
   "metadata": {},
   "outputs": [
    {
     "data": {
      "text/plain": [
       "1"
      ]
     },
     "execution_count": 5,
     "metadata": {},
     "output_type": "execute_result"
    }
   ],
   "source": [
    "sql = \"\"\"\n",
    "insert into students(id, name, school, sex, age) values(%s, %s, %s, %s, %s)\n",
    "\"\"\"\n",
    "cursor.execute(sql,(2, 'Donald Trump', 'GDUT', '男', 73))"
   ]
  },
  {
   "cell_type": "markdown",
   "metadata": {},
   "source": [
    "#### 当然列表也可"
   ]
  },
  {
   "cell_type": "code",
   "execution_count": 6,
   "metadata": {},
   "outputs": [],
   "source": [
    "sql = \"\"\"\n",
    "insert into students(id, name, school, sex, age) values(%s, %s, %s, %s, %s)\"\"\"\n",
    "c = [3, '希特勒', 'GDUT', '男', 50]\n",
    "cursor.execute(sql, c)\n",
    "conn.commit()"
   ]
  },
  {
   "cell_type": "markdown",
   "metadata": {},
   "source": [
    "## SELECT语句\n",
    "使用select语句查询数据，`select 列名 from 表名 where 查询条件`\n",
    "- 可以查询一个或多个表，表之间用逗号分隔\n",
    "- 可以用*代替其他字段，将返回表的所有字段数据\n",
    "- 可以使用where语句包含任何条件\n",
    "- 使用limit属性设定返回的记录数。\n",
    "fetchone返回第一个元素的元组，fetchmamy(n)返回n个元素的元组，fetchall返回所有元素的元组。"
   ]
  },
  {
   "cell_type": "code",
   "execution_count": 7,
   "metadata": {},
   "outputs": [
    {
     "data": {
      "text/plain": [
       "((1, '蔡徐坤', 'GDUT', '鸡', 25),\n",
       " (2, 'Donald Trump', 'GDUT', '男', 73),\n",
       " (3, '希特勒', 'GDUT', '男', 50))"
      ]
     },
     "execution_count": 7,
     "metadata": {},
     "output_type": "execute_result"
    }
   ],
   "source": [
    "sql = \"\"\"\n",
    "select * from students\n",
    "\"\"\"\n",
    "cursor.execute(sql)\n",
    "result = cursor.fetchall()\n",
    "result"
   ]
  },
  {
   "cell_type": "code",
   "execution_count": 8,
   "metadata": {},
   "outputs": [
    {
     "name": "stdout",
     "output_type": "stream",
     "text": [
      "('Donald Trump',)\n"
     ]
    }
   ],
   "source": [
    "sql = \"\"\"\n",
    "select name from students where sex='男'\n",
    "\"\"\"\n",
    "cursor.execute(sql)\n",
    "cursor.fetchone()"
   ]
  },
  {
   "cell_type": "markdown",
   "metadata": {},
   "source": [
    "## DELETE语句\n",
    "使用delete语句删除数据，`delete from 表名 where 查询条件`\n",
    "- 如果没有指定 WHERE 子句，MySQL 表中的所有记录将被删除。\n",
    "- 可以在 WHERE 子句中指定任何条件。\n",
    "- 可以在单个表中一次性删除记录。\n",
    "效果如下：\n",
    "![](./image/3-4.png)"
   ]
  },
  {
   "cell_type": "code",
   "execution_count": 9,
   "metadata": {},
   "outputs": [],
   "source": [
    "sql = \"\"\"\n",
    "delete from students where id=1\"\"\"\n",
    "cursor.execute(sql)\n",
    "conn.commit()"
   ]
  },
  {
   "cell_type": "markdown",
   "metadata": {},
   "source": [
    "## UPDATE语句\n",
    "使用update语句可以更新数据，`update 表名 set 列名=新数据 where 查询条件`\n",
    "- 可以同时更新一个或多个字段。\n",
    "- 可以在 WHERE 子句中指定任何条件。\n",
    "- 可以在一个单独表中同时更新数据。\n",
    "效果如下：\n",
    "![](./image/3-5.png)"
   ]
  },
  {
   "cell_type": "code",
   "execution_count": 10,
   "metadata": {},
   "outputs": [],
   "source": [
    "sql = \"\"\"\n",
    "update students set school='MIT' where name='Donald Trump'\"\"\"\n",
    "cursor.execute(sql)\n",
    "conn.commit()"
   ]
  },
  {
   "cell_type": "code",
   "execution_count": 11,
   "metadata": {},
   "outputs": [],
   "source": [
    "sql = \"\"\"\n",
    "update students set age=0\"\"\" # 没指定就是全选\n",
    "cursor.execute(sql)\n",
    "conn.commit()"
   ]
  },
  {
   "cell_type": "markdown",
   "metadata": {},
   "source": [
    "#### 加点数据hhh"
   ]
  },
  {
   "cell_type": "code",
   "execution_count": 12,
   "metadata": {},
   "outputs": [],
   "source": [
    "a = [('蔡徐坤', 'GDUT', '鸡', '25'), \n",
    "     ('卫兰', 'GDUT', '女', '30'),\n",
    "     ('杨千嬅', 'GDUT', '女', '35')]\n",
    "for i in a:\n",
    "    sql = \"\"\"\n",
    "    insert into students(name, school, sex, age) values(%s, %s, %s, %s)\n",
    "    \"\"\"\n",
    "    cursor.execute(sql, i)\n",
    "conn.commit()"
   ]
  },
  {
   "cell_type": "markdown",
   "metadata": {},
   "source": [
    "## ORDER BY排序\n",
    "使用order by排序，`order by 列名 asc/desc`\n",
    "- 可以使用任何字段来作为排序的条件，从而返回排序后的查询结果。\n",
    "- 可以设定多个字段来排序。\n",
    "- 可以使用 ASC 或 DESC 关键字来设置查询结果是按升序或降序排列。 默认情况下，它是按升序排列。\n",
    "- 可以添加 WHERE...LIKE 子句来设置条件。"
   ]
  },
  {
   "cell_type": "code",
   "execution_count": 14,
   "metadata": {},
   "outputs": [
    {
     "data": {
      "text/plain": [
       "((2, 'Donald Trump', 'MIT', '男', 0),\n",
       " (3, '希特勒', 'GDUT', '男', 0),\n",
       " (4, '蔡徐坤', 'GDUT', '鸡', 25),\n",
       " (5, '卫兰', 'GDUT', '女', 30),\n",
       " (6, '杨千嬅', 'GDUT', '女', 35))"
      ]
     },
     "execution_count": 14,
     "metadata": {},
     "output_type": "execute_result"
    }
   ],
   "source": [
    "sql = \"\"\"\n",
    "select * from students order by age asc\n",
    "\"\"\"\n",
    "cursor.execute(sql)\n",
    "cursor.fetchall()"
   ]
  },
  {
   "cell_type": "code",
   "execution_count": 15,
   "metadata": {
    "scrolled": false
   },
   "outputs": [
    {
     "data": {
      "text/plain": [
       "((6, '杨千嬅', 'GDUT', '女', 35),\n",
       " (5, '卫兰', 'GDUT', '女', 30),\n",
       " (4, '蔡徐坤', 'GDUT', '鸡', 25),\n",
       " (3, '希特勒', 'GDUT', '男', 0),\n",
       " (2, 'Donald Trump', 'MIT', '男', 0))"
      ]
     },
     "execution_count": 15,
     "metadata": {},
     "output_type": "execute_result"
    }
   ],
   "source": [
    "sql = \"\"\"\n",
    "select * from students order by id desc\n",
    "\"\"\"\n",
    "cursor.execute(sql)\n",
    "cursor.fetchall()"
   ]
  },
  {
   "cell_type": "markdown",
   "metadata": {},
   "source": [
    "#### 找前两个最小的"
   ]
  },
  {
   "cell_type": "code",
   "execution_count": 16,
   "metadata": {},
   "outputs": [
    {
     "data": {
      "text/plain": [
       "((2, 'Donald Trump', 'MIT', '男', 0), (3, '希特勒', 'GDUT', '男', 0))"
      ]
     },
     "execution_count": 16,
     "metadata": {},
     "output_type": "execute_result"
    }
   ],
   "source": [
    "sql = \"\"\"\n",
    "select * from students order by age asc limit 2\n",
    "\"\"\"\n",
    "cursor.execute(sql)\n",
    "cursor.fetchall()"
   ]
  },
  {
   "cell_type": "markdown",
   "metadata": {},
   "source": [
    "#### 先把id列升序，在此前提下把age列降序（不过数据不多，没什么用"
   ]
  },
  {
   "cell_type": "code",
   "execution_count": 17,
   "metadata": {},
   "outputs": [
    {
     "data": {
      "text/plain": [
       "((2, 'Donald Trump', 'MIT', '男', 0),\n",
       " (3, '希特勒', 'GDUT', '男', 0),\n",
       " (4, '蔡徐坤', 'GDUT', '鸡', 25),\n",
       " (5, '卫兰', 'GDUT', '女', 30),\n",
       " (6, '杨千嬅', 'GDUT', '女', 35))"
      ]
     },
     "execution_count": 17,
     "metadata": {},
     "output_type": "execute_result"
    }
   ],
   "source": [
    "sql = \"\"\"\n",
    "select * from students order by id asc, age desc\n",
    "\"\"\"\n",
    "cursor.execute(sql)\n",
    "cursor.fetchall()"
   ]
  }
 ],
 "metadata": {
  "kernelspec": {
   "display_name": "Python 3",
   "language": "python",
   "name": "python3"
  },
  "language_info": {
   "codemirror_mode": {
    "name": "ipython",
    "version": 3
   },
   "file_extension": ".py",
   "mimetype": "text/x-python",
   "name": "python",
   "nbconvert_exporter": "python",
   "pygments_lexer": "ipython3",
   "version": "3.7.4"
  }
 },
 "nbformat": 4,
 "nbformat_minor": 2
}
